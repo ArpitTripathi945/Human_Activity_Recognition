{
 "cells": [
  {
   "attachments": {},
   "cell_type": "markdown",
   "metadata": {},
   "source": [
    "## <center>HUMAN ACTIVITY RECOGNITION USING SMARTPHONE DATA</center>"
   ]
  },
  {
   "attachments": {},
   "cell_type": "markdown",
   "metadata": {},
   "source": [
    "### Table of Contents\n",
    "\n",
    "1. Importing necessary libraries\n",
    "2. Loading Data\n",
    "3. Data preprocessing\n",
    "    * 3.a Checking for Duplicates\n",
    "    * 3.b Checking for missing values\n",
    "    * 3.c Checking for class imbalance\n",
    "4. Exploratory Data Analysis\n",
    "    * 4.a Analysing tbodyAccMag-mean feature\n",
    "    * 4.b Analysing Angle between Y-axis and gravityMean feature\n",
    "    * 4.c Analysing Angle between Y-axis and gravityMean feature\n",
    "    * 4.d Visualising data using t-SNE\n",
    "5. Model Prediction and Evaluation \n",
    "    * 5.a Logistic Regression model with Hyperparameter tuning and cross validation\n",
    "    * 5.b Linear SVM model with Hyperparameter tuning and cross validation\n",
    "    * 5.c Kernel SVM model with Hyperparameter tuning and cross validation\n",
    "    * 5.d Decision tree model with Hyperparameter tuning and cross validation\n",
    "    * 5.e Random Forest model with Hyperparameter tuning and cross validation"
   ]
  },
  {
   "attachments": {},
   "cell_type": "markdown",
   "metadata": {},
   "source": [
    "### Importing the libraries"
   ]
  },
  {
   "cell_type": "code",
   "execution_count": 2,
   "metadata": {},
   "outputs": [],
   "source": [
    "import numpy as np\n",
    "import pandas as pd\n",
    "\n",
    "import matplotlib.pyplot as plt\n",
    "import seaborn as sns\n",
    "\n",
    "import warnings\n",
    "warnings.filterwarnings(\"ignore\")\n",
    "\n",
    "from collections import Counter\n",
    "\n",
    "from sklearn.decomposition import PCA\n",
    "from sklearn.manifold import TSNE\n",
    "\n",
    "from sklearn.model_selection import RandomizedSearchCV\n",
    "\n",
    "from sklearn.linear_model import LogisticRegression\n",
    "from sklearn.svm import SVC\n",
    "from sklearn.tree import DecisionTreeClassifier\n",
    "from sklearn.ensemble import RandomForestClassifier\n",
    "\n",
    "from sklearn.metrics import confusion_matrix\n",
    "from sklearn.metrics import accuracy_score\n",
    "from sklearn.metrics import classification_report \n"
   ]
  },
  {
   "cell_type": "code",
   "execution_count": null,
   "metadata": {},
   "outputs": [],
   "source": []
  }
 ],
 "metadata": {
  "kernelspec": {
   "display_name": "base",
   "language": "python",
   "name": "python3"
  },
  "language_info": {
   "codemirror_mode": {
    "name": "ipython",
    "version": 3
   },
   "file_extension": ".py",
   "mimetype": "text/x-python",
   "name": "python",
   "nbconvert_exporter": "python",
   "pygments_lexer": "ipython3",
   "version": "3.9.13"
  },
  "orig_nbformat": 4
 },
 "nbformat": 4,
 "nbformat_minor": 2
}
